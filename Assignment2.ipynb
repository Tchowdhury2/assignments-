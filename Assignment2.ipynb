{
 "cells": [
  {
   "cell_type": "code",
   "execution_count": 2,
   "id": "46ddd726-ba5d-47a2-9f8b-9a6d50125599",
   "metadata": {},
   "outputs": [],
   "source": [
    "# Part One: Lists\n",
    "planets = ['Mecury', 'Venus', 'Earth', 'Mars', 'Jupiter', 'Saturn', 'Uranus', 'Neptune'] \n",
    "how_many_planets = len(planets)\n",
    "# Using slicing to display the rocky planets \n",
    "rocky_planets = planets [0:4]"
   ]
  },
  {
   "cell_type": "code",
   "execution_count": 14,
   "id": "ac9e96b3-72e5-4e0f-9d06-c353cf758cec",
   "metadata": {},
   "outputs": [
    {
     "name": "stdout",
     "output_type": "stream",
     "text": [
      "Venus\n",
      "Mars\n",
      "Uranus\n"
     ]
    }
   ],
   "source": [
    "# Iterate through your planets and print the planet name only if it has an s at the end\n",
    "for planet in planets:\n",
    "    if planet[-1] == \"s\":\n",
    "        print(planet)"
   ]
  },
  {
   "cell_type": "code",
   "execution_count": 16,
   "id": "4d5153ad-494e-4133-8e21-eb2d5cb271d9",
   "metadata": {},
   "outputs": [],
   "source": [
    "# Part Two: Funtions \n",
    "def celsius_to_kelvin(celsius):\n",
    "    kelvin = celsius + 273.15\n",
    "    return kelvin "
   ]
  },
  {
   "cell_type": "code",
   "execution_count": 21,
   "id": "e5898286-843c-4f41-9d8e-d23482ff114e",
   "metadata": {},
   "outputs": [
    {
     "data": {
      "text/plain": [
       "293.15"
      ]
     },
     "execution_count": 21,
     "metadata": {},
     "output_type": "execute_result"
    }
   ],
   "source": [
    "c = 20 \n",
    "celsius_to_kelvin(c)"
   ]
  },
  {
   "cell_type": "code",
   "execution_count": 23,
   "id": "d87acc4a-038b-4b5e-8594-8b730bd3a850",
   "metadata": {},
   "outputs": [],
   "source": [
    "def kelvin_to_celsius(kelvin):\n",
    "    celsius = kelvin - 273.15\n",
    "    return celsius "
   ]
  },
  {
   "cell_type": "code",
   "execution_count": 24,
   "id": "76bd9b5f-c6f0-440e-b4eb-7c90d36d4f5e",
   "metadata": {},
   "outputs": [
    {
     "data": {
      "text/plain": [
       "26.850000000000023"
      ]
     },
     "execution_count": 24,
     "metadata": {},
     "output_type": "execute_result"
    }
   ],
   "source": [
    "k = 300 \n",
    "kelvin_to_celsius(k)"
   ]
  },
  {
   "cell_type": "code",
   "execution_count": 25,
   "id": "8481be9f-70e5-4b13-85c6-0edf017b6384",
   "metadata": {},
   "outputs": [],
   "source": [
    "# Write a function to convert temperature from celsius to fahrenheit\n",
    "def celsius_to_fahrenheit(celsius): \n",
    "    fahrenheit = 9/5*celsius + 32\n",
    "    return fahrenheit"
   ]
  },
  {
   "cell_type": "code",
   "execution_count": 26,
   "id": "239efc84-ddad-4fb0-986b-6a80fac20ffc",
   "metadata": {},
   "outputs": [
    {
     "data": {
      "text/plain": [
       "662.0"
      ]
     },
     "execution_count": 26,
     "metadata": {},
     "output_type": "execute_result"
    }
   ],
   "source": [
    "f = 350 \n",
    "celsius_to_fahrenheit(f)"
   ]
  },
  {
   "cell_type": "code",
   "execution_count": 27,
   "id": "5738d0ff-35b1-4804-ab1a-a5836154f3fc",
   "metadata": {},
   "outputs": [],
   "source": [
    "# Write a function to convert temperature from kelvin to fahrenheit\n",
    "def kelvin_to_fahrenheit(kelvin): \n",
    "    fahrenheit = (kelvin-273.15)*9/5 + 32\n",
    "    return fahrenheit"
   ]
  },
  {
   "cell_type": "code",
   "execution_count": 28,
   "id": "0e23bf7a-2378-470b-a009-d8dba42f905b",
   "metadata": {},
   "outputs": [
    {
     "data": {
      "text/plain": [
       "-423.66999999999996"
      ]
     },
     "execution_count": 28,
     "metadata": {},
     "output_type": "execute_result"
    }
   ],
   "source": [
    "f = 20 \n",
    "kelvin_to_fahrenheit(f)"
   ]
  },
  {
   "cell_type": "code",
   "execution_count": 29,
   "id": "a1de5954-3fb1-451c-a281-3cf4af8d3a06",
   "metadata": {},
   "outputs": [],
   "source": [
    "def temp_to_fahrenheit(temp,type):\n",
    "    if type == \"celsius\":\n",
    "        return celsius_to_fahrenheit(temp)\n",
    "    else:\n",
    "        return kelvin_to_fahrenheit(temp)\n",
    "        "
   ]
  },
  {
   "cell_type": "code",
   "execution_count": 30,
   "id": "e2eac05d-ca98-4ffc-bdad-c345a3198cbe",
   "metadata": {},
   "outputs": [
    {
     "data": {
      "text/plain": [
       "32.0"
      ]
     },
     "execution_count": 30,
     "metadata": {},
     "output_type": "execute_result"
    }
   ],
   "source": [
    "temp_to_fahrenheit(0,\"celsius\")"
   ]
  },
  {
   "cell_type": "code",
   "execution_count": 32,
   "id": "34ee2407-eef3-4c20-a1c3-2202b6c6a6ba",
   "metadata": {},
   "outputs": [
    {
     "data": {
      "text/plain": [
       "80.33000000000004"
      ]
     },
     "execution_count": 32,
     "metadata": {},
     "output_type": "execute_result"
    }
   ],
   "source": [
    "temp_to_fahrenheit(300,\"kelvin\")"
   ]
  },
  {
   "cell_type": "code",
   "execution_count": 34,
   "id": "79ea69f3-7362-4f93-8c8d-dfa4e92bf736",
   "metadata": {},
   "outputs": [],
   "source": [
    "# Write a function to convert temperature from fahrenheit to celsius\n",
    "def fahrenheit_to_celsius(farenheit): \n",
    "    celsius = (fahrenheit - 32)*5/9\n",
    "    return celsius"
   ]
  },
  {
   "cell_type": "code",
   "execution_count": 35,
   "id": "778c13db-1924-4256-aa5a-921890c6d05a",
   "metadata": {},
   "outputs": [
    {
     "data": {
      "text/plain": [
       "0.0"
      ]
     },
     "execution_count": 35,
     "metadata": {},
     "output_type": "execute_result"
    }
   ],
   "source": [
    "f=32\n",
    "fahrenheit_to_celsius(f)"
   ]
  },
  {
   "cell_type": "code",
   "execution_count": 37,
   "id": "d366b010-851d-4e5a-9690-90d87ebc1cf1",
   "metadata": {},
   "outputs": [],
   "source": [
    "# Write a function to convert temperature from fahrenheit to kelvin\n",
    "def fahrenheit_to_kelvin(farenheit): \n",
    "    kelvin = (fahrenheit - 32)*5/9+273.15\n",
    "    return kelvin"
   ]
  },
  {
   "cell_type": "code",
   "execution_count": 38,
   "id": "64d51a85-db8f-4ca8-a739-12883d3b8fa5",
   "metadata": {},
   "outputs": [],
   "source": [
    "def fahrenheit_to_temp(temp,type):\n",
    "    if type == \"celsius\":\n",
    "        return fahrenheit_to_celsius(temp)\n",
    "    else:\n",
    "        return fahrenheit_to_kelvin(temp)"
   ]
  },
  {
   "cell_type": "code",
   "execution_count": 73,
   "id": "b1d98f89-8c69-4756-9ae9-e0733abc5acb",
   "metadata": {},
   "outputs": [],
   "source": [
    "# convert height in feet and inches to meters \n",
    "def height_to_meters(feet,inches):\n",
    "    total_inches = (feet*12) + inches\n",
    "    meters = total_inches * 0.0254\n",
    "    return meters\n",
    "\n",
    "# convert height in meters to feet and inches \n",
    "def meters_to_height(meters): \n",
    "    total_inches = meters / 0.0254\n",
    "    feet = int(total_inches // 12)\n",
    "    inches = total_inches % 12\n",
    "    return feet,inches"
   ]
  },
  {
   "cell_type": "code",
   "execution_count": 72,
   "id": "3409a7ac-0f97-473e-9dac-0180984f613a",
   "metadata": {},
   "outputs": [
    {
     "name": "stdout",
     "output_type": "stream",
     "text": [
      "1.9811999999999999\n"
     ]
    }
   ],
   "source": [
    "#example 1\n",
    "meters = height_to_meters(6,6)\n",
    "print(meters)"
   ]
  },
  {
   "cell_type": "code",
   "execution_count": 74,
   "id": "896f298c-3fec-45db-bd08-c37f88f78c43",
   "metadata": {},
   "outputs": [
    {
     "name": "stdout",
     "output_type": "stream",
     "text": [
      "65 7.401574803149629\n"
     ]
    }
   ],
   "source": [
    "#example \n",
    "feet,inches = meters_to_height(20)\n",
    "print(feet,inches)"
   ]
  },
  {
   "cell_type": "code",
   "execution_count": 75,
   "id": "97a7eccd-81fa-4fec-a6db-eec9ceb1eb9d",
   "metadata": {},
   "outputs": [
    {
     "name": "stdout",
     "output_type": "stream",
     "text": [
      "2.286\n"
     ]
    }
   ],
   "source": [
    "#example 2\n",
    "meters = height_to_meters(7,6)\n",
    "print(meters)"
   ]
  },
  {
   "cell_type": "code",
   "execution_count": 76,
   "id": "80856e57-d574-4fca-8b36-e544e2841c5c",
   "metadata": {},
   "outputs": [
    {
     "name": "stdout",
     "output_type": "stream",
     "text": [
      "2.6416\n"
     ]
    }
   ],
   "source": [
    "#example 3\n",
    "meters = height_to_meters(7,20)\n",
    "print(meters)"
   ]
  },
  {
   "cell_type": "code",
   "execution_count": null,
   "id": "7e994235-fe91-40e8-9b34-c8671f6ba66e",
   "metadata": {},
   "outputs": [],
   "source": []
  }
 ],
 "metadata": {
  "kernelspec": {
   "display_name": "pangeo23",
   "language": "python",
   "name": "pangeo23"
  },
  "language_info": {
   "codemirror_mode": {
    "name": "ipython",
    "version": 3
   },
   "file_extension": ".py",
   "mimetype": "text/x-python",
   "name": "python",
   "nbconvert_exporter": "python",
   "pygments_lexer": "ipython3",
   "version": "3.11.6"
  }
 },
 "nbformat": 4,
 "nbformat_minor": 5
}
