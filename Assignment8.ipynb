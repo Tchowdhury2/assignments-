{
 "cells": [
  {
   "cell_type": "code",
   "execution_count": null,
   "id": "f20b0e6a-f953-4874-9b7e-cf3e17890de1",
   "metadata": {},
   "outputs": [],
   "source": [
    "import numpy as np\n",
    "from matplotlib import pyplot as plt\n",
    "from scipy.integrate import solve_ivp"
   ]
  },
  {
   "cell_type": "code",
   "execution_count": null,
   "id": "0d970860-2084-4c45-8ecf-50ba7dc01959",
   "metadata": {
    "editable": true,
    "slideshow": {
     "slide_type": ""
    },
    "tags": []
   },
   "outputs": [],
   "source": [
    "# Constants\n",
    "temp = 298  # kelvin\n",
    "pres = 1e5  # Pascals\n",
    "Rgas = 8.314  # J/(mol-K)\n",
    "avo = 6.022e23\n",
    "\n",
    "PHOx = 0.1  # pptv/s\n",
    "k1 = 26.3e-12\n",
    "k2 = 7.7e-12\n",
    "k3 = 8.1e-12\n",
    "k4 = 1.1e-11\n",
    "k5 = 2.9e-12\n",
    "k6 = 5.2e-12\n",
    "k7 = 0.015  # s-1\n",
    "k8 = 1.9e-14\n",
    "\n",
    "airden = (pres * avo) / (Rgas * temp * 1e6)  # molec/cm3\n",
    "ppbfac = 1e9 / airden\n",
    "\n",
    "def myfun(t, u):\n",
    "    f = np.zeros(7)\n",
    "    f[0] = -k2 * u[3] * u[0] + k7 * u[1] - k8 * u[5] * u[0] - k3 * u[4] * u[0]\n",
    "    f[1] = k2 * u[3] * u[0] + k3 * u[4] * u[0] + k8 * u[5] * u[0] - k7 * u[1] - k4 * u[2] * u[1]\n",
    "    f[2] = -k1 * u[6] * u[2] + k3 * u[4] * u[0] - k4 * u[2] * u[1] + PHOx * 1e-12 * airden\n",
    "    f[3] = k1 * u[6] * u[2] - k2 * u[3] * u[0] - k6 * u[3] * u[4]\n",
    "    f[4] = k2 * u[3] * u[0] - k3 * u[4] * u[0] - 2 * k5 * u[4] ** 2 - k6 * u[3] * u[4]\n",
    "    f[5] = k7 * u[1] - k8 * u[5] * u[0]\n",
    "    f[6] = -k1 * u[6] * u[2]\n",
    "    return f"
   ]
  },
  {
   "cell_type": "code",
   "execution_count": null,
   "id": "b6ab3fdd-a03f-46b6-beb6-73c96c74fa6b",
   "metadata": {},
   "outputs": [],
   "source": [
    "def calculate_max_o3(nox, rh):\n",
    "    Cnox = nox * 1e-9 * airden\n",
    "    Crh = rh * 1e-9 * airden\n",
    "    u0 = np.zeros(7)\n",
    "    u0[0] = Cnox * (2 / 3)  # NO\n",
    "    u0[1] = Cnox * (1 / 3)  # NO2\n",
    "    u0[6] = Crh             \n",
    "    time_span = (0, 96 * 3600)  # Simulate for 96 hours in seconds\n",
    "    time_eval = np.arange(0, 96 * 3600, 2) \n",
    "    sol = solve_ivp(myfun, time_span, u0, method='RK45', t_eval=time_eval)\n",
    "    max_o3 = np.max(sol.y[2]) * ppbfac  \n",
    "    return max_o3\n",
    "\n",
    "nox_range = np.linspace(0, 50, 50)  # NOx in ppb\n",
    "rh_range = np.linspace(50, 500, 50)  # RH in ppb\n",
    "NOX, RH = np.meshgrid(nox_range, rh_range)\n",
    "MAX_O3 = np.zeros_like(NOX)\n",
    "\n",
    "for i in range(NOX.shape[0]):\n",
    "    for j in range(NOX.shape[1]):\n",
    "        MAX_O3[i, j] = calculate_max_o3(NOX[i, j], RH[i, j])"
   ]
  },
  {
   "cell_type": "code",
   "execution_count": null,
   "id": "6410acfa-234c-47c4-a223-3fb3bbdc554f",
   "metadata": {
    "editable": true,
    "slideshow": {
     "slide_type": ""
    },
    "tags": []
   },
   "outputs": [],
   "source": [
    "# Plot the isopleth\n",
    "plt.figure(figsize=(10, 6))\n",
    "X, Y = np.meshgrid(rh_values, nox_values)\n",
    "contour = plt.contourf(X, Y, O3_matrix, levels=50, cmap=\"plasma\")\n",
    "plt.colorbar(contour, label=\"Max O$_3$ (ppb)\")\n",
    "plt.title(\"Maximum O$_3$ Concentration\")\n",
    "plt.xlabel(\"Initial RH (ppb)\")\n",
    "plt.ylabel(\"Initial NOx (ppb)\")\n",
    "plt.show()"
   ]
  }
 ],
 "metadata": {
  "kernelspec": {
   "display_name": "pangeo23",
   "language": "python",
   "name": "pangeo23"
  },
  "language_info": {
   "codemirror_mode": {
    "name": "ipython",
    "version": 3
   },
   "file_extension": ".py",
   "mimetype": "text/x-python",
   "name": "python",
   "nbconvert_exporter": "python",
   "pygments_lexer": "ipython3",
   "version": "3.11.6"
  }
 },
 "nbformat": 4,
 "nbformat_minor": 5
}
